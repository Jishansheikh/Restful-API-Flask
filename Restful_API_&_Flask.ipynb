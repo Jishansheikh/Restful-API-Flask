{
  "nbformat": 4,
  "nbformat_minor": 0,
  "metadata": {
    "colab": {
      "provenance": []
    },
    "kernelspec": {
      "name": "python3",
      "display_name": "Python 3"
    },
    "language_info": {
      "name": "python"
    }
  },
  "cells": [
    {
      "cell_type": "markdown",
      "source": [],
      "metadata": {
        "id": "wvG4Y7HQuHan"
      }
    },
    {
      "cell_type": "markdown",
      "source": [
        "#Restful API & Flask"
      ],
      "metadata": {
        "id": "PLI3qU28uV93"
      }
    },
    {
      "cell_type": "markdown",
      "source": [
        "1.What is a RESTful API?\n",
        "\n",
        "   - A RESTful API (Representational State Transfer API) is a way for computer systems to communicate over the internet using HTTP methods in a simple and standardized way. It's commonly used to build web services that allow clients (like browsers or mobile apps) to access and manipulate data on a server."
      ],
      "metadata": {
        "id": "ZlBplsxcucyY"
      }
    },
    {
      "cell_type": "markdown",
      "source": [
        "2.Explain the concept of API specification?\n",
        "\n",
        "   - An API specification is a detailed document or description that defines how an API behaves, what it offers, and how developers should use it. Think of it as the blueprint or contract for an API."
      ],
      "metadata": {
        "id": "_NYcL_2uuwYw"
      }
    },
    {
      "cell_type": "markdown",
      "source": [
        "3.What is Flask, and why is it popular for building APIs?\n",
        "\n",
        "   - Flask is a lightweight web framework written in Python that is widely used for building web applications and RESTful APIs."
      ],
      "metadata": {
        "id": "jji35-GqvESV"
      }
    },
    {
      "cell_type": "markdown",
      "source": [
        "4.What is routing in Flask?\n",
        "\n",
        "   - Routing in Flask is the process of mapping URLs (web addresses) to specific Python functions. These functions are called view functions, and they define what response should be returned when a user or client accesses a particular URL."
      ],
      "metadata": {
        "id": "--e3v6nAvTC4"
      }
    },
    {
      "cell_type": "markdown",
      "source": [
        "5.How do you create a simple Flask application?\n",
        "\n",
        "   - To create a simple Flask application, first install Flask using pip (pip install flask). Then, import Flask, create an instance of the Flask class, and define routes using decorators. Finally, use app.run() to start the server."
      ],
      "metadata": {
        "id": "76rHoQ6ev7Yy"
      }
    },
    {
      "cell_type": "markdown",
      "source": [
        "6.What are HTTP methods used in RESTful APIs?\n",
        "\n",
        "\n",
        "   - HTTP methods commonly used in RESTful APIs include GET (retrieve data), POST (create data), PUT (update data), DELETE (delete data), and PATCH (partially update data) These methods define the operations that can be performed on resources."
      ],
      "metadata": {
        "id": "PqSOPN6kwUoT"
      }
    },
    {
      "cell_type": "markdown",
      "source": [
        "7.What is the purpose of the @app.route() decorator in Flask?\n",
        "\n",
        "\n",
        "   - The @app.route() decorator in Flask is used to define the URL patterns (routes) that the application will respond to.\n",
        "For example:\n",
        "\n",
        "         > @app.route('/home')\n",
        "           def home():\n",
        "               return \"Welcome to the home page!\"\n",
        "    Here’s what it does:\n",
        "\n",
        "    > Associates a URL (like /home) with a function (home()).\n",
        "    > When a user visits /home, Flask runs the home() function and returns its response."
      ],
      "metadata": {
        "id": "cmWPeIDTwf0q"
      }
    },
    {
      "cell_type": "markdown",
      "source": [
        "8.What is the difference between GET and POST HTTP methods?\n",
        "\n",
        "\n",
        "   - The GET method retrieves data from the server and should not modify any data. POST, on the other hand, is used to send data to the server, typically to create or update resources. GET requests are generally cached, while POST requests are not."
      ],
      "metadata": {
        "id": "OhtviB95xUUj"
      }
    },
    {
      "cell_type": "markdown",
      "source": [
        "9.How do you handle errors in Flask APIs?\n",
        "\n",
        "\n",
        "   - Flask provides error handling via @app.errorhandler() or by manually raising exceptions within routes. Commonly, HTTP status codes like 404 (not found), 400 (bad request), and 500 (internal server error) are used to indicate different errors. Custom error messages can also be returned in the response."
      ],
      "metadata": {
        "id": "cdY7i6Pbxb7G"
      }
    },
    {
      "cell_type": "markdown",
      "source": [
        "10.How do you connect Flask to a SQL database?\n",
        "\n",
        "\n",
        "   - Flask can be connected to a SQL database using libraries such as Flask-SQLAlchemy. First, install SQLAlchemy (pip install flask-sqlalchemy), configure the database URI, and create models representing the database tables. You can then query and manipulate the database using SQLAlchemy ORM methods."
      ],
      "metadata": {
        "id": "vDrWHtzKxi4l"
      }
    },
    {
      "cell_type": "markdown",
      "source": [
        "11.What is the role of Flask-SQLAlchemy?\n",
        "\n",
        "\n",
        "   - Flask-SQLAlchemy is an extension for Flask that simplifies database interaction by integrating SQLAlchemy with Flask. It provides an ORM (Object-Relational Mapping) to map Python classes to database tables, making it easier to query and manage databases within Flask applications."
      ],
      "metadata": {
        "id": "QJZSP4DCxsOn"
      }
    },
    {
      "cell_type": "markdown",
      "source": [
        "12.What are Flask blueprints, and how are they useful?\n",
        "\n",
        "\n",
        "   - Flask blueprints allow you to organize your application into modular components. Each blueprint can contain routes, views, templates, and static files. This is useful for larger applications, as it helps in separating different parts of the application for better structure and maintainability."
      ],
      "metadata": {
        "id": "E26p3894x1fg"
      }
    },
    {
      "cell_type": "markdown",
      "source": [
        "13.What is the purpose of Flasks request object?\n",
        "\n",
        "\n",
        "   - The request object in Flask is used to access incoming HTTP request data, including form data, JSON payloads, URL parameters, and headers. It is essential for handling data sent by clients when interacting with an API."
      ],
      "metadata": {
        "id": "drtmk2UvyZN1"
      }
    },
    {
      "cell_type": "markdown",
      "source": [
        "14.How do you create a RESTful API endpoint using Flask?\n",
        "\n",
        "\n",
        "   - To create a RESTful API endpoint in Flask, define a function using the @app.route() decorator, specifying the HTTP method (e.g., GET or POST). The function will handle incoming requests and return a response, often in JSON format."
      ],
      "metadata": {
        "id": "cgY5zXHGyixl"
      }
    },
    {
      "cell_type": "markdown",
      "source": [
        "15.What is the purpose of Flask's jsonify() function?\n",
        "\n",
        "\n",
        "   - The jsonify() function in Flask is used to convert Python dictionaries or lists into JSON format and set the appropriate response headers. This function makes it easier to send JSON responses from a Flask API."
      ],
      "metadata": {
        "id": "x6rs26HTyuAu"
      }
    },
    {
      "cell_type": "markdown",
      "source": [
        "16.Explain Flask's url_for() function.\n",
        "\n",
        "\n",
        "   - url_for() is a Flask function used to generate a URL for a given endpoint or view function. This is useful for linking between different parts of the application, and it dynamically builds URLs based on the route names."
      ],
      "metadata": {
        "id": "Rl2ttFb6y2yM"
      }
    },
    {
      "cell_type": "markdown",
      "source": [
        "17.How does Flask handle static files (CSS, JavaScript, etc.)?  \n",
        "\n",
        "\n",
        "   - Flask serves static files like CSS, JavaScript, and images from a directory called \"static.\" By default, the static folder is accessible through the /static URL. Files placed in this folder can be referenced in HTML templates or returned directly by Flask."
      ],
      "metadata": {
        "id": "meFRXgSgy9Ng"
      }
    },
    {
      "cell_type": "markdown",
      "source": [
        "18.What is an API specification, and how does it help in building a Flask API?\n",
        "\n",
        "\n",
        "   - An API specification is a clear, written description of how an API works — what endpoints are available, what data it needs, and what it returns.\n",
        "\n",
        "  In building a Flask API, an API spec helps by:\n",
        "\n",
        "   > Planning: You know what to build before coding.\n",
        "\n",
        "   > Consistency: Everyone follows the same structure.\n",
        "\n",
        "   > Communication: Makes it easy for teams and apps to understand and use your API.\n",
        "   \n",
        "   > Documentation: Can be used to auto-generate docs (like with Swagger)."
      ],
      "metadata": {
        "id": "SHxH5JQdzKf3"
      }
    },
    {
      "cell_type": "markdown",
      "source": [
        "19.What are HTTP status codes, and why are they important in a Flask API?\n",
        "\n",
        "\n",
        "   - HTTP status codes are 3-digit numbers returned by a server to show the result of a request (like 200 for success, 404 for not found).\n",
        "\n",
        "   In a Flask API, they are important because they:\n",
        "\n",
        "    > Tell the client what happened (success, error, etc.)\n",
        "\n",
        "    > Help with debugging\n",
        "\n",
        "    > Make the API more reliable and user-friendly"
      ],
      "metadata": {
        "id": "3MjPt5vw0ZMT"
      }
    },
    {
      "cell_type": "markdown",
      "source": [
        "20.How do you handle POST requests in Flask?\n",
        "\n",
        "\n",
        "  - In Flask, we can handle POST requests by defining a route that listens for them and using the request object to get the data sent by the client.\n",
        "\n",
        "   Here’s a basic example:\n",
        "      \n",
        "        from flask import Flask, request\n",
        "\n",
        "        app = Flask(__name__)\n",
        "\n",
        "        @app.route('/submit', methods=['POST'])\n",
        "        def submit():\n",
        "            data = request.json  # Get JSON data from the request\n",
        "                  # Process the data\n",
        "            return {'message': 'Data received', 'data': data}, 200\n",
        "\n",
        "        if __name__ == '__main__':\n",
        "            app.run()\n",
        "   > methods=['POST']: Specifies this route handles POST requests.\n",
        "   > request.json: Retrieves the data sent by the client in JSON format."
      ],
      "metadata": {
        "id": "aw0Cg9sA08ct"
      }
    },
    {
      "cell_type": "markdown",
      "source": [
        "21.How would you secure a Flask APP?\n",
        "\n",
        "\n",
        "   - Flask API security can be implemented using various methods, including authentication (via tokens like JWT or OAuth), input validation, CORS handling, rate limiting, and encryption of sensitive data. Flask extensions like Flask-JWT and Flask-OAuth can help implement these security features."
      ],
      "metadata": {
        "id": "agcJSSkI2bPS"
      }
    },
    {
      "cell_type": "markdown",
      "source": [
        "22.What is the significance of the Flask-RESTful extension?\n",
        "\n",
        "  \n",
        "  - Flask-RESTful is an extension that adds support for quickly building REST APIs. It provides tools for creating resources, handling HTTP methods, and organizing routes. This extension simplifies the process of building APIs by offering convenient features like request parsing and response formatting."
      ],
      "metadata": {
        "id": "H-one0Fe2j_1"
      }
    },
    {
      "cell_type": "markdown",
      "source": [
        "23.What is the role of Flask's session object?\n",
        "\n",
        "\n",
        "   - The session object in Flask is used to store data between requests, typically for maintaining user sessions. Data stored in the session is usually saved on the client-side (in cookies) and can be used for tracking user activity or authentication."
      ],
      "metadata": {
        "id": "1jD58y0B2pF4"
      }
    },
    {
      "cell_type": "markdown",
      "source": [
        "#Restful API & Flask Practical Questions"
      ],
      "metadata": {
        "id": "_mUv3yGP22S0"
      }
    },
    {
      "cell_type": "code",
      "source": [
        "'''1. How do you create a basic Flask application?'''\n",
        "from flask import Flask\n",
        "app = Flask(__name__)\n",
        "\n",
        "@app.route('/')\n",
        "def home():\n",
        "    return 'Hello, Flask!'\n",
        "\n",
        "if __name__ == '__main__':\n",
        "    app.run(debug=True)"
      ],
      "metadata": {
        "id": "HhYTr7Oz3PUo"
      },
      "execution_count": null,
      "outputs": []
    },
    {
      "cell_type": "code",
      "source": [
        "'''2.How do you serve static files like images or CSS in Flask?'''\n",
        "\n",
        "from flask import Flask, send_from_directory\n",
        "app = Flask(__name__)\n",
        "\n",
        "@app.route('/static/')\n",
        "def send_static(filename):\n",
        "    return send_from_directory('static', filename)\n",
        "\n",
        "if __name__ == '__main__':\n",
        "    app.run(debug=True)\n",
        ""
      ],
      "metadata": {
        "id": "wFnnIHzR3Q2Q"
      },
      "execution_count": null,
      "outputs": []
    },
    {
      "cell_type": "code",
      "source": [
        "'''3.How do you define different routes with different HTTP methods in Flask?'''\n",
        "\n",
        "from flask import Flask\n",
        "app = Flask(__name__)\n",
        "\n",
        "@app.route('/greet', methods=['GET'])\n",
        "def greet():\n",
        "    return \"Hello World!\"\n",
        "\n",
        "if __name__ == '__main__':\n",
        "    app.run(debug=True)\n",
        ""
      ],
      "metadata": {
        "id": "p3YZvUEz4LWT"
      },
      "execution_count": null,
      "outputs": []
    },
    {
      "cell_type": "code",
      "source": [
        "'''4.How do you render HTML templates in Flask?'''\n",
        "\n",
        "from flask import Flask, render_template\n",
        "app = Flask(__name__)\n",
        "\n",
        "@app.route('/')\n",
        "def index():\n",
        "    return render_template('index.html')\n",
        "\n",
        "if __name__ == '__main__':\n",
        "    app.run(debug=True)"
      ],
      "metadata": {
        "id": "QCMqDfEj4SJB"
      },
      "execution_count": null,
      "outputs": []
    },
    {
      "cell_type": "code",
      "source": [
        "'''5.How can you generate URLs for routes in Flask using url_for?'''\n",
        "\n",
        "from flask import Flask, url_for\n",
        "app = Flask(__name__)\n",
        "\n",
        "@app.route('/home')\n",
        "def home():\n",
        "    return 'This is the home page.'\n",
        "\n",
        "@app.route('/')\n",
        "def index():\n",
        "    return f'Go to Home'\n",
        "\n",
        "if __name__ == '__main__':\n",
        "    app.run(debug=True)"
      ],
      "metadata": {
        "id": "Tlkct6fO4YcD"
      },
      "execution_count": null,
      "outputs": []
    },
    {
      "cell_type": "code",
      "source": [
        "'''6.How do you handle forms in Flask?'''\n",
        "\n",
        "from flask import Flask, request, render_template\n",
        "app = Flask(__name__)\n",
        "\n",
        "@app.route('/submit', methods=['GET', 'POST'])\n",
        "def submit():\n",
        "    if request.method == 'POST':\n",
        "        name = request.form['name']\n",
        "        return f\"Hello {name}!\"\n",
        "    return render_template('form.html')\n",
        "\n",
        "if __name__ == '__main__':\n",
        "    app.run(debug=True)"
      ],
      "metadata": {
        "id": "FBfwYki24gS7"
      },
      "execution_count": null,
      "outputs": []
    },
    {
      "cell_type": "code",
      "source": [
        "'''7.How can you validate form data in Flask?'''\n",
        "\n",
        "from flask import Flask, request, flash, redirect, url_for\n",
        "app = Flask(__name__)\n",
        "app.secret_key = 'secret'\n",
        "\n",
        "@app.route('/login', methods=['POST'])\n",
        "def login():\n",
        "    username = request.form['username']\n",
        "    if not username:\n",
        "        flash('Username is required!')\n",
        "        return redirect(url_for('login'))\n",
        "    return 'Login successful'\n",
        "\n",
        "if __name__ == '__main__':\n",
        "    app.run(debug=True)"
      ],
      "metadata": {
        "id": "OBvNX3kX5IDS"
      },
      "execution_count": null,
      "outputs": []
    },
    {
      "cell_type": "code",
      "source": [
        "'''8.How do you manage sessions in Flask?'''\n",
        "\n",
        "from flask import Flask, session\n",
        "app = Flask(__name__)\n",
        "app.secret_key = 'secret'\n",
        "\n",
        "@app.route('/set_user')\n",
        "def set_user():\n",
        "    session['user'] = 'John'\n",
        "    return 'User set'\n",
        "\n",
        "@app.route('/get_user')\n",
        "def get_user():\n",
        "    return f'Logged in as {session.get(\"user\", \"Guest\")}'\n",
        "\n",
        "if __name__ == '__main__':\n",
        "    app.run(debug=True)"
      ],
      "metadata": {
        "id": "ldP9OMsm5Ph5"
      },
      "execution_count": null,
      "outputs": []
    },
    {
      "cell_type": "code",
      "source": [
        "'''9.How do you redirect to a different route in Flask?'''\n",
        "\n",
        "from flask import Flask, redirect, url_for\n",
        "app = Flask(__name__)\n",
        "\n",
        "@app.route('/redirect_home')\n",
        "def redirect_home():\n",
        "    return redirect(url_for('home'))\n",
        "\n",
        "@app.route('/home')\n",
        "def home():\n",
        "    return 'This is the home page.'\n",
        "\n",
        "if __name__ == '__main__':\n",
        "    app.run(debug=True)"
      ],
      "metadata": {
        "id": "1SC8vQva5WbQ"
      },
      "execution_count": null,
      "outputs": []
    },
    {
      "cell_type": "code",
      "source": [
        "'''10.How do you handle errors in Flask (e.g., 404)?'''\n",
        "\n",
        "from flask import Flask\n",
        "app = Flask(__name__)\n",
        "\n",
        "@app.errorhandler(404)\n",
        "def page_not_found(e):\n",
        "    return 'Page not found', 404\n",
        "\n",
        "@app.route('/')\n",
        "def home():\n",
        "    return 'Welcome to the home page.'\n",
        "\n",
        "if __name__ == '__main__':\n",
        "    app.run(debug=True)"
      ],
      "metadata": {
        "id": "lXvfWcf35hkv"
      },
      "execution_count": null,
      "outputs": []
    },
    {
      "cell_type": "code",
      "source": [
        "'''11. How do you structure a Flask app using Blueprints?'''\n",
        "\n",
        "from flask import Flask, Blueprint\n",
        "app = Flask(__name__)\n",
        "\n",
        "bp = Blueprint('home', __name__)\n",
        "\n",
        "@bp.route('/')\n",
        "def index():\n",
        "    return 'Home Page'\n",
        "\n",
        "app.register_blueprint(bp)\n",
        "\n",
        "if __name__ == '__main__':\n",
        "    app.run(debug=True)"
      ],
      "metadata": {
        "id": "RBrJzfb55o1Z"
      },
      "execution_count": null,
      "outputs": []
    },
    {
      "cell_type": "code",
      "source": [
        "'''12.How do you define a custom Jinja filter in Flask?'''\n",
        "\n",
        "from flask import Flask\n",
        "app = Flask(__name__)\n",
        "\n",
        "@app.template_filter('reverse')\n",
        "def reverse_filter(s):\n",
        "    return s[::-1]\n",
        "\n",
        "@app.route('/')\n",
        "def home():\n",
        "    return render_template('home.html', name='Flask')\n",
        "\n",
        "if __name__ == '__main__':\n",
        "    app.run(debug=True)"
      ],
      "metadata": {
        "id": "ND7WM1db5vo7"
      },
      "execution_count": null,
      "outputs": []
    },
    {
      "cell_type": "code",
      "source": [
        "'''13.HOW can you redirect with query parameters in Flask?'''\n",
        "\n",
        "from flask import Flask, redirect, url_for\n",
        "app = Flask(__name__)\n",
        "\n",
        "@app.route('/redirect_with_query')\n",
        "def redirect_with_query():\n",
        "    return redirect(url_for('home', username='John'))\n",
        "\n",
        "@app.route('/home')\n",
        "def home():\n",
        "    return f'Welcome, {request.args.get(\"username\")}'\n",
        "\n",
        "if __name__ == '__main__':\n",
        "    app.run(debug=True)"
      ],
      "metadata": {
        "id": "Ndr0H3eT59iU"
      },
      "execution_count": null,
      "outputs": []
    },
    {
      "cell_type": "code",
      "source": [
        "'''14.How do you return JSON responses in Flask?'''\n",
        "\n",
        "from flask import Flask, jsonify\n",
        "app = Flask(__name__)\n",
        "\n",
        "@app.route('/data')\n",
        "def data():\n",
        "    return jsonify({\"name\": \"Flask\", \"version\": \"2.0\"})\n",
        "\n",
        "if __name__ == '__main__':\n",
        "    app.run(debug=True)"
      ],
      "metadata": {
        "id": "QGIMbONJ6BLm"
      },
      "execution_count": null,
      "outputs": []
    },
    {
      "cell_type": "code",
      "source": [
        "'''15.How do you capture URL parameters in Flask?'''\n",
        "\n",
        "from flask import Flask\n",
        "app = Flask(__name__)\n",
        "\n",
        "@app.route('/user/')\n",
        "def user(username):\n",
        "    return f\"Hello {username}!\"\n",
        "\n",
        "if __name__ == '__main__':\n",
        "    app.run(debug=True)"
      ],
      "metadata": {
        "id": "oHWyna716HCT"
      },
      "execution_count": null,
      "outputs": []
    },
    {
      "cell_type": "markdown",
      "source": [],
      "metadata": {
        "id": "auqKssdYuY0n"
      }
    },
    {
      "cell_type": "code",
      "execution_count": 1,
      "metadata": {
        "id": "BagYfzyPt9e4"
      },
      "outputs": [],
      "source": []
    },
    {
      "cell_type": "code",
      "source": [],
      "metadata": {
        "id": "BaEia2ebuRHR"
      },
      "execution_count": null,
      "outputs": []
    }
  ]
}